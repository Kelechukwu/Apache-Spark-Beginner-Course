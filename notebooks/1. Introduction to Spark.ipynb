{
 "cells": [
  {
   "cell_type": "code",
   "execution_count": 1,
   "metadata": {},
   "outputs": [
    {
     "data": {
      "text/html": [
       "\n",
       "        <div>\n",
       "            <p><b>SparkContext</b></p>\n",
       "\n",
       "            <p><a href=\"http://kc:4050\">Spark UI</a></p>\n",
       "\n",
       "            <dl>\n",
       "              <dt>Version</dt>\n",
       "                <dd><code>v2.3.0</code></dd>\n",
       "              <dt>Master</dt>\n",
       "                <dd><code>local[*]</code></dd>\n",
       "              <dt>AppName</dt>\n",
       "                <dd><code>PySparkShell</code></dd>\n",
       "            </dl>\n",
       "        </div>\n",
       "        "
      ],
      "text/plain": [
       "<SparkContext master=local[*] appName=PySparkShell>"
      ]
     },
     "execution_count": 1,
     "metadata": {},
     "output_type": "execute_result"
    }
   ],
   "source": [
    "sc"
   ]
  },
  {
   "cell_type": "code",
   "execution_count": 4,
   "metadata": {},
   "outputs": [
    {
     "data": {
      "text/plain": [
       "'../data/AAPL.csv'"
      ]
     },
     "execution_count": 4,
     "metadata": {},
     "output_type": "execute_result"
    }
   ],
   "source": [
    "import os\n",
    "filePath = os.path.join(os.pardir,'data','AAPL.csv')\n",
    "filePath"
   ]
  },
  {
   "cell_type": "code",
   "execution_count": 5,
   "metadata": {},
   "outputs": [],
   "source": [
    "apple = sc.textFile(filePath) # this is a transformation"
   ]
  },
  {
   "cell_type": "code",
   "execution_count": 6,
   "metadata": {},
   "outputs": [
    {
     "data": {
      "text/plain": [
       "['Date,Open,High,Low,Close,Adj Close,Volume',\n",
       " '2018-03-07,174.940002,175.850006,174.270004,175.029999,175.029999,31703500',\n",
       " '2018-03-08,175.479996,177.119995,175.070007,176.940002,176.940002,23774100',\n",
       " '2018-03-09,177.960007,180.000000,177.389999,179.979996,179.979996,32185200',\n",
       " '2018-03-12,180.289993,182.389999,180.210007,181.720001,181.720001,32207100',\n",
       " '2018-03-13,182.589996,183.500000,179.240005,179.970001,179.970001,31693500',\n",
       " '2018-03-14,180.320007,180.520004,177.809998,178.440002,178.440002,29368400',\n",
       " '2018-03-15,178.500000,180.240005,178.070007,178.649994,178.649994,22743800',\n",
       " '2018-03-16,178.649994,179.119995,177.619995,178.020004,178.020004,39404700',\n",
       " '2018-03-19,177.320007,177.470001,173.660004,175.300003,175.300003,33446800']"
      ]
     },
     "execution_count": 6,
     "metadata": {},
     "output_type": "execute_result"
    }
   ],
   "source": [
    "#  get the first 10 rows of the RDD\n",
    "apple.take(10)  # this is an action"
   ]
  },
  {
   "cell_type": "code",
   "execution_count": 7,
   "metadata": {},
   "outputs": [
    {
     "data": {
      "text/plain": [
       "'Date,Open,High,Low,Close,Adj Close,Volume'"
      ]
     },
     "execution_count": 7,
     "metadata": {},
     "output_type": "execute_result"
    }
   ],
   "source": [
    "# Get the first row \n",
    "apple.first() # this is an action"
   ]
  },
  {
   "cell_type": "code",
   "execution_count": 8,
   "metadata": {},
   "outputs": [
    {
     "data": {
      "text/plain": [
       "['Date,Open,High,Low,Close,Adj Close,Volume',\n",
       " '2018-03-07,174.940002,175.850006,174.270004,175.029999,175.029999,31703500',\n",
       " '2018-03-08,175.479996,177.119995,175.070007,176.940002,176.940002,23774100',\n",
       " '2018-03-09,177.960007,180.000000,177.389999,179.979996,179.979996,32185200',\n",
       " '2018-03-12,180.289993,182.389999,180.210007,181.720001,181.720001,32207100',\n",
       " '2018-03-13,182.589996,183.500000,179.240005,179.970001,179.970001,31693500',\n",
       " '2018-03-14,180.320007,180.520004,177.809998,178.440002,178.440002,29368400',\n",
       " '2018-03-15,178.500000,180.240005,178.070007,178.649994,178.649994,22743800',\n",
       " '2018-03-16,178.649994,179.119995,177.619995,178.020004,178.020004,39404700',\n",
       " '2018-03-19,177.320007,177.470001,173.660004,175.300003,175.300003,33446800',\n",
       " '2018-03-20,175.240005,176.800003,174.940002,175.240005,175.240005,19649400',\n",
       " '2018-03-21,175.039993,175.089996,171.259995,171.270004,171.270004,37054900',\n",
       " '2018-03-22,170.000000,172.679993,168.600006,168.850006,168.850006,41490800',\n",
       " '2018-03-23,168.389999,169.919998,164.940002,164.940002,164.940002,41028800',\n",
       " '2018-03-26,168.070007,173.100006,166.440002,172.770004,172.770004,37541200',\n",
       " '2018-03-27,173.679993,175.149994,166.919998,168.339996,168.339996,40922600',\n",
       " '2018-03-28,167.250000,170.020004,165.190002,166.479996,166.479996,41668500',\n",
       " '2018-03-29,167.809998,171.750000,166.899994,167.779999,167.779999,38398500',\n",
       " '2018-04-02,166.639999,168.940002,164.470001,166.679993,166.679993,37586800',\n",
       " '2018-04-03,167.639999,168.750000,164.880005,168.389999,168.389999,30278000',\n",
       " '2018-04-04,164.880005,172.009995,164.770004,171.610001,171.610001,34605500',\n",
       " '2018-04-05,172.580002,174.229996,172.080002,172.800003,172.800003,26616300',\n",
       " '2018-04-06,170.970001,172.479996,168.199997,168.380005,168.380005,35005290']"
      ]
     },
     "execution_count": 8,
     "metadata": {},
     "output_type": "execute_result"
    }
   ],
   "source": [
    "# get the complete set of rows \n",
    "apple.collect() # this is an action\n"
   ]
  },
  {
   "cell_type": "code",
   "execution_count": null,
   "metadata": {},
   "outputs": [],
   "source": []
  }
 ],
 "metadata": {
  "kernelspec": {
   "display_name": "Python 3",
   "language": "python",
   "name": "python3"
  },
  "language_info": {
   "codemirror_mode": {
    "name": "ipython",
    "version": 3
   },
   "file_extension": ".py",
   "mimetype": "text/x-python",
   "name": "python",
   "nbconvert_exporter": "python",
   "pygments_lexer": "ipython3",
   "version": "3.6.5"
  }
 },
 "nbformat": 4,
 "nbformat_minor": 2
}
